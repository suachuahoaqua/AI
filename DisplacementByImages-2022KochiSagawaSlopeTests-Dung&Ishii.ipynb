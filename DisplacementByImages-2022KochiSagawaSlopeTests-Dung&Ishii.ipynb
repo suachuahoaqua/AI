{
 "cells": [
  {
   "cell_type": "markdown",
   "metadata": {},
   "source": [
    "# Loading python modules  各モジュールの読み込み"
   ]
  },
  {
   "cell_type": "code",
   "execution_count": 1,
   "metadata": {},
   "outputs": [
    {
     "data": {
      "text/plain": [
       "0"
      ]
     },
     "execution_count": 1,
     "metadata": {},
     "output_type": "execute_result"
    }
   ],
   "source": [
    "#####################\n",
    "### 必要なモジュールの読み込み   \n",
    "### Run this cell once just after onpneing this file.\n",
    "#####################\n",
    "\n",
    "import numpy as np\n",
    "\n",
    "import pandas as pd\n",
    "pd.options.display.max_columns = 50  # 表示オプションの変更\n",
    "\n",
    "%matplotlib notebook\n",
    "#%matplotlib inline\n",
    "\n",
    "import matplotlib\n",
    "from matplotlib import pylab as plt\n",
    "#from mpl_toolkits.axes_grid1 import ImageGrid\n",
    "\n",
    "#from types import MethodType\n",
    "#from collections import namedtuple, OrderedDict\n",
    "\n",
    "import pathlib\n",
    "#import glob\n",
    "#import os\n",
    "#import shutil\n",
    "\n",
    "import csv    \n",
    "\n",
    "from PIL import Image, ImageDraw, ImageFont\n",
    "#import cv2\n",
    "\n",
    "import math\n",
    "#import scipy\n",
    "#from scipy.optimize import curve_fit\n",
    "\n",
    "#from sklearn import linear_model\n",
    "#from statistics import mean, median,variance,stdev\n",
    "#from sklearn.ensemble import GradientBoostingRegressor\n",
    "#from sklearn.metrics import r2_score\n",
    "#from sklearn import svm\n",
    "\n",
    "#import numba\n",
    "#from numba import jit\n",
    "\n",
    "import time    #start = time.time() のように使う\n",
    "\n",
    "\"\"\"\n",
    "##### 自作モジュール #####    ★Python 3.9 では cv2 が使えないので、cv2 系の関数は dummy で上書きしてある★\n",
    "import sys\n",
    "if '../' not in sys.path:\n",
    "    sys.path.append('../')\n",
    "#print(sys.path)\n",
    "\n",
    "import importlib\n",
    "import Tmisc\n",
    "importlib.reload(Tmisc)\n",
    "\n",
    "from Tmisc import get_exif_of_image\n",
    "from Tmisc import PLTfig_toNumpy\n",
    "from Tmisc import np_SaveImage\n",
    "from Tmisc import find_nearXY\n",
    "from Tmisc import colorNameToRGB\n",
    "from Tmisc import getColorMap\n",
    "from Tmisc import np_DrawText\n",
    "from Tmisc import DrawColorScale\n",
    "from Tmisc import SqTrans\n",
    "from Tmisc import gen_cmap_name\n",
    "#from Tmisc import cv2_imread_J\n",
    "#from Tmisc import cv2_imwrite_J\n",
    "from Tmisc import timelaps_to_MP4\n",
    "from Tmisc import timers\n",
    "tim_ = timers()\n",
    "\"\"\"\n",
    "\n",
    "# Tmisc にも含まれている関数のコピー\n",
    "def np_SaveImage(im, filename, log = False):\n",
    "    im_save = Image.fromarray(im)\n",
    "    im_save.save(filename)\n",
    "    if log:\n",
    "        print(f\"Save to {filename}\")\n",
    "\n",
    "0"
   ]
  },
  {
   "cell_type": "markdown",
   "metadata": {},
   "source": [
    "# Draw grid in images"
   ]
  },
  {
   "cell_type": "code",
   "execution_count": 21,
   "metadata": {},
   "outputs": [
    {
     "name": "stdout",
     "output_type": "stream",
     "text": [
      "Save to C:\\Data\\Data\\地すべり\\05警報センサーLan-福田\\06福田\\計測-高知林野\\佐川崩壊実験21\\220603本降雨\\ImageAnalysis\\Test\\_2022-06-03_09.00.08.752_(02F23700967)_grid(mono).bmp\n",
      "Save to C:\\Data\\Data\\地すべり\\05警報センサーLan-福田\\06福田\\計測-高知林野\\佐川崩壊実験21\\220603本降雨\\ImageAnalysis\\Test\\_2022-06-03_09.00.08.752_(02F23700967)_grid(B&R).bmp\n",
      "Save to C:\\Data\\Data\\地すべり\\05警報センサーLan-福田\\06福田\\計測-高知林野\\佐川崩壊実験21\\220603本降雨\\ImageAnalysis\\Test\\_2022-06-03_09.00.08.473_(02J51771122)_grid(mono).bmp\n",
      "Save to C:\\Data\\Data\\地すべり\\05警報センサーLan-福田\\06福田\\計測-高知林野\\佐川崩壊実験21\\220603本降雨\\ImageAnalysis\\Test\\_2022-06-03_09.00.08.473_(02J51771122)_grid(B&R).bmp\n"
     ]
    }
   ],
   "source": [
    "# Set full path of image files which you like to draw grid lines:\n",
    "pName_list = [r\"C:\\Data\\Data\\地すべり\\05警報センサーLan-福田\\06福田\\計測-高知林野\\佐川崩壊実験21\\220603本降雨\\ImageAnalysis\\Test\\_2022-06-03_09.00.08.752_(02F23700967).bmp\",\n",
    "              r\"C:\\Data\\Data\\地すべり\\05警報センサーLan-福田\\06福田\\計測-高知林野\\佐川崩壊実験21\\220603本降雨\\ImageAnalysis\\Test\\_2022-06-03_09.00.08.473_(02J51771122).bmp\"]\n",
    "\n",
    "# Set folder name where you like to save the images with grid:\n",
    "pOut_foldername = r\"C:\\Data\\Data\\地すべり\\05警報センサーLan-福田\\06福田\\計測-高知林野\\佐川崩壊実験21\\220603本降雨\\ImageAnalysis\\Test\"\n",
    "              \n",
    "for pName in pName_list:\n",
    "    p = pathlib.Path(pName)\n",
    "    im = np.array( Image.open(p) )\n",
    "    \n",
    "    # Output monochrome BMP image (19MB). Black line for every 100 pixels, Black thick line ofr every 500 pixels\n",
    "    \n",
    "    im_mono = im.copy()  # make monochrome image with grid from original monochrome image.\n",
    "    im_mono[:, 0::100] = 255 # White\n",
    "    im_mono[0::100, :] = 255 # White\n",
    "    im_mono[:, 0::500] = 255 # Thick White\n",
    "    im_mono[:, 1::500] = 255 # Thick White\n",
    "    im_mono[:, 2::500] = 255 # Thick White\n",
    "    im_mono[0::500, :] = 255 # Thick White\n",
    "    im_mono[1::500, :] = 255 # Thick White\n",
    "    im_mono[2::500, :] = 255 # Thick White\n",
    "    pOut = pathlib.Path(pOut_foldername) / (p.stem + \"_grid(mono).bmp\")\n",
    "    np_SaveImage(im_mono, str(pOut), log = True)\n",
    "    \n",
    "    # Output color BMP image (57MB). Black line for every 100 pixels, Red line ofr every 500 pixels\n",
    "    im_color = np.stack((im, im, im), axis=2)  # make color (RGB) image from original monochrome image.\n",
    "    im_color[:, 0::100, :] = (255, 255, 0) # Yellow #(0, 0, 0) # Black\n",
    "    im_color[0::100, :, :] = (255, 255, 0) # Yellow #(0, 0, 0) # Black\n",
    "    im_color[:, 0::500, :] = (255, 0, 0) # Red\n",
    "    im_color[0::500, :, :] = (255, 0, 0) # Red\n",
    "    pOut = pathlib.Path(pOut_foldername) / (p.stem + \"_grid(B&R).bmp\")\n",
    "    np_SaveImage(im_color, str(pOut), log = True)\n"
   ]
  },
  {
   "cell_type": "code",
   "execution_count": null,
   "metadata": {},
   "outputs": [],
   "source": []
  },
  {
   "cell_type": "code",
   "execution_count": null,
   "metadata": {},
   "outputs": [],
   "source": []
  },
  {
   "cell_type": "code",
   "execution_count": null,
   "metadata": {},
   "outputs": [],
   "source": []
  },
  {
   "cell_type": "markdown",
   "metadata": {},
   "source": [
    "# programs for former students."
   ]
  },
  {
   "cell_type": "markdown",
   "metadata": {},
   "source": [
    "# 使用する設定、関数、クラスの定義など"
   ]
  },
  {
   "cell_type": "code",
   "execution_count": 40,
   "metadata": {},
   "outputs": [
    {
     "data": {
      "text/plain": [
       "0"
      ]
     },
     "execution_count": 40,
     "metadata": {},
     "output_type": "execute_result"
    }
   ],
   "source": [
    "# Tmisc からコピー # Tmisc で cv2 系を上書きしたので、ここは不要\n",
    "\"\"\"\n",
    "###########################\n",
    "# numpy の画像を保存する関数\n",
    "###########################\n",
    "def np_SaveImage(im, filename, log = False):\n",
    "    im_save = Image.fromarray(im)\n",
    "    im_save.save(filename)\n",
    "    if log:\n",
    "        print(f\"Save to {filename}\")\n",
    "\n",
    "###########################\n",
    "# colorNameToRGB(color = 'black')\n",
    "###########################\n",
    "# matplotlib.colors.cnames に登録された {色の名前, 16進カラーコード} から、uint8 の [R,G,B] を得る関数 ★たぶん、既製の関数もあると思う\n",
    "# color は、matplotlib.colors.cnames に貼っているものからえらぶ。\n",
    "# 　→ dict で 'ivory': '#FFFFF0' のように入っている\n",
    "def colorNameToRGB(color = 'black'):\n",
    "    if type(color) == str:\n",
    "        colorHexS = matplotlib.colors.cnames.get(color,'#000000') # dict の .get() メソッドの第2変数は、key にない場合に返す値\n",
    "        colorRGB = [int(colorHexS[i:i+2], 16) for i in (1,3,5)] # 16進数から10進整数へ変換 \n",
    "        #colorRGB = [int(colorHexS[1:3],16), int(colorHexS[3:5],16), int(colorHexS[5:7],16)] \n",
    "        # と同じ。[1:3] と書くと、2文字目～3文字目(0始まりで、1～２)\n",
    "    else:\n",
    "        colorRGB = color  # color に色名の文字列でなく [R, G, B] のリストを入れても対応できるようにしておく。\n",
    "    return np.uint8(colorRGB)\n",
    "\n",
    "\n",
    "def gen_cmap_name(cols):  # http://hydro.iis.u-tokyo.ac.jp/~akira/page/Python/contents/plot/color/colormap.html\n",
    "    nmax = float(len(cols)-1)\n",
    "    color_list = []\n",
    "    for n, c in enumerate(cols):\n",
    "        color_list.append((n/nmax, c))\n",
    "\n",
    "    return matplotlib.colors.LinearSegmentedColormap.from_list('cmap', color_list)\n",
    "\n",
    "\n",
    "################################################################################\n",
    "# Numpy の画像に文字列を書き込む。pillow を経由\n",
    "################################################################################\n",
    "from PIL import Image, ImageDraw, ImageFont\n",
    "def np_DrawText(im, text, fontname = \"C:\\Windows\\Fonts\\meiryo.ttc\", fontsize = 24, fillColor = (0,0,0,128), \n",
    "                drawx = 0, drawy = 0, posx = None, posy = None,   # 位置の指定がなければ、(drawx, drawy) に描く\n",
    "                backColor = None, # 背景色が None の場合は、透明(何も描かない)\n",
    "                rotation = None, tategaki = None, # 文字の回転、縦書きは、未整備\n",
    "                typePillow = False): # typePillow = True なら、pillow で受けて pillow のまま返す\n",
    "\n",
    "################################################################################\n",
    "# 画像にカラースケールを付加。デフォルトは、上の方に幅150pxl で上書き。\n",
    "# outFrame = True の場合は、画像を外に拡大してスケールを描画\n",
    "# valStr = True の場合は、スケールの両端に vmin,vmax を描画\n",
    "################################################################################\n",
    "def DrawColorScale(im, vmin = 0, vmax = 1, colorFunc = lambda x:(x,x,x), position = \"top\", width = 150, \n",
    "                   outFrame = False, valStr = False):\n",
    "\"\"\"\n",
    "0"
   ]
  },
  {
   "cell_type": "code",
   "execution_count": 2,
   "metadata": {},
   "outputs": [
    {
     "data": {
      "text/plain": [
       "0"
      ]
     },
     "execution_count": 2,
     "metadata": {},
     "output_type": "execute_result"
    }
   ],
   "source": [
    "########################\n",
    "# 2021年度までに作った函数\n",
    "########################\n",
    "\n",
    "# 指定位置に小さな四角を描く関数\n",
    "# 引数に渡した画像そのものに上書きするので、.copy()したものを渡すのが安全\n",
    "# square だけ実装。\n",
    "# size = 20 なら、Pxy = (x,y)を中心に x -20 ～ x + 20, y -20 ～ y + 20 に描画。Thickness はその内側。\n",
    "# Pxy が点の配列 (list で [[x,y], [x,y], ...] や、その np) である場合、全ての点を描画する\n",
    "# solid = True なら、thickness は無効\n",
    "def DrawMark(im_mkd, Pxy = [0,0], sizeXY = [20, 20], thickness = 8, solid = False, color = 'black', shapetype = 'square'):\n",
    "    if np.isscalar(Pxy[0]):  # ★１つ目の要素が、スカラーであれば、単独の点 Pxy と見なして、点の配列 [Pxy] に直し、あとは点の配列として一括処理★\n",
    "        _Pxy = [Pxy]\n",
    "    elif isinstance(Pxy, np.ndarray):# ★np配列の場合に限り、多次元の点の配列を、１列にして全て描画\n",
    "        _Pxy = Pxy.reshape(-1, 2)  # ★ ← ユーザーの責任で、最後の次元は 2 に限る。\n",
    "    else:\n",
    "        _Pxy = Pxy\n",
    "    for _pxy in _Pxy:\n",
    "        x, y = _pxy\n",
    "        sizeX, sizeY = sizeXY\n",
    "        im_size_y, im_size_x, im_size_c = im_mkd.shape # 画像の範囲の外を指定されたら除いて返す\n",
    "        xmin = max(x - sizeX, 0); xmax = min(x + sizeX, im_size_x)\n",
    "        ymin = max(y - sizeY, 0); ymax = min(y + sizeY, im_size_y)\n",
    "        thickness = max(0, min(thickness, sizeX, sizeY))\n",
    "        colorRGB = colorNameToRGB(color)\n",
    "\n",
    "        if shapetype == 'square':\n",
    "            if solid:\n",
    "                im_mkd[ymin:ymax +1, xmin:xmax +1] = colorRGB\n",
    "            else:\n",
    "                im_mkd[ymin               :ymin +thickness, xmin               :xmax            ] = colorRGB\n",
    "                im_mkd[ymax - thickness +1:ymax +1        , xmin               :xmax            ] = colorRGB\n",
    "                im_mkd[ymin               :ymax           , xmin               :xmin +thickness ] = colorRGB\n",
    "                im_mkd[ymin               :ymax           , xmax - thickness +1:xmax +1         ] = colorRGB\n",
    "        elif shapetype == 'cross':\n",
    "            pass \n",
    "        elif shapetype == 'circle':\n",
    "            pass\n",
    "        else:\n",
    "            print(\"shapetype {0} is not implemented\".format(shapetype))\n",
    "\n",
    "    return im_mkd\n",
    "\n",
    "0"
   ]
  },
  {
   "cell_type": "code",
   "execution_count": 7,
   "metadata": {},
   "outputs": [
    {
     "data": {
      "text/plain": [
       "0"
      ]
     },
     "execution_count": 7,
     "metadata": {},
     "output_type": "execute_result"
    }
   ],
   "source": [
    "########################\n",
    "# 2022年度に作った函数\n",
    "########################\n",
    "###################################################################################\n",
    "###### R_RGBave から VWC を計算する関数 ###########################################\n",
    "###################################################################################\n",
    "def R_RGBave_to_WVC上村版(x):  #硅砂（上村,2022.2) R/RGBave = 1.05 - 0.002 x VWC(%) - 0.00011*VWC(%)*VWC(%)\n",
    "    return (9628 - x /0.00011)**0.5 - 9.091\n",
    "\n",
    "def R_RGBave_to_WVC犬飼版(x):  # 豊浦砂（犬飼,2022.2) R/RGBave = 1.14 - 0.0055 x VWC(%) \n",
    "    return (1.14 - x) / 0.0055\n",
    "\n",
    "def G_RGBave_to_WVC犬飼版(x):  # 豊浦砂（犬飼,2022.2) G/RGBave = 1.035 + 0.007 x VWC(%) \n",
    "    return (x - 1.035) / 0.007\n",
    "\n",
    "###################################################################################\n",
    "###### VWC からカラーマップ画像を作成する関数、カラーマップの定義 #################\n",
    "###################################################################################\n",
    "#plt_cm_func = gen_cmap_name([plt.cm.terrain(i) for i in np.int32(255*np.linspace(0.0, 0.97, 256))[::-1]]) # Budyko's Aridity Index の逆順\n",
    "plt_cm_func = gen_cmap_name(['w', 'lemonchiffon', 'navajowhite', 'sandybrown',\n",
    "                 'peru', 'darkseagreen', 'mediumseagreen',\n",
    "                 'darkcyan', 'dodgerblue', 'slateblue', 'darkslateblue']) # Precip. 3-hourly\n",
    "#plt_cm_func = gen_cmap_name(['w','r','cyan','b','purple','black']) # 220209配色\n",
    "#plt_cm_func = plt.cm.jet # カラーマップを指定\n",
    "#plt_cm_func = plt.cm.gist_rainbow\n",
    "#plt_cm_func = plt.cm.Greens\n",
    "\n",
    "def plt_cm_func_R(x):\n",
    "    _R = 1.0; _G = 1 - x**1.0; _B =  1 - x**1.0\n",
    "    return _R,_G,_B\n",
    "\n",
    "def getImage_Cmap(valueArray = np.array(((0,0),(0,0)),dtype = float),  # 2次元配列に数値(float)が入ったもの\n",
    "                  cfunc = lambda value: (0,0,0),  # 画層の各点の値 value = 0～1 から、色(R,G,B,A = 0～1) または(R,G,B = 0～1)を返す関数\n",
    "                  vminScale = 0, vmaxScale = 20, alpha = False): # 2次元のカラーマップ画像(np.uint8)を新規に作って返す\n",
    "    Image_Cmap = cfunc( (valueArray-vminScale)/ (vmaxScale-vminScale) )\n",
    "    Image_Cmap[:,:,0:3] = (Image_Cmap[:,:,0:3]*255)\n",
    "    if not alpha:\n",
    "        Image_Cmap = Image_Cmap[:,:,0:3]\n",
    "    return Image_Cmap.astype(np.uint8)\n",
    "\n",
    "0"
   ]
  },
  {
   "cell_type": "code",
   "execution_count": 5,
   "metadata": {},
   "outputs": [
    {
     "name": "stdout",
     "output_type": "stream",
     "text": [
      "len(Images) = 920\n"
     ]
    }
   ],
   "source": [
    "###### 上村版：画像ファイルのフォルダ名とリストを取得 ###########################################\n",
    "folder_Images = pathlib.Path(r\"D:\\data\\Tang模型実験\\卒論22上村-堤防浸透\\220124堤防-湿潤砂-水量MAX\\220124Capture1sec\")\n",
    "list_ImageFiles = [p  for p in folder_Images.iterdir() if p.is_file() if p.name[-4:].lower() == \".png\"]\n",
    "list_ImageTime = [int( p.stem[-9:] ) for p in list_ImageFiles]\n",
    "\n",
    "folder_R_RGBaveImages = pathlib.Path(r\"D:\\data\\Tang模型実験\\卒論22上村-堤防浸透\\220124堤防-湿潤砂-水量MAX\\220124R_RGBave\")\n",
    "\n",
    "#print(list(zip(list_ImageFiles, list_ImageTime)) )\n",
    "#print(list_ImageTime) # [6139, 7140, 8141, 9142, 10143, 11144, .... 23055, 924056, 925057, 926058]\n",
    "# → これを dict の key にして管理する\n",
    "\n",
    "Images = { time: path for path, time in zip(list_ImageFiles, list_ImageTime)}\n",
    "print(f\"{len(Images) = }\")"
   ]
  }
 ],
 "metadata": {
  "kernelspec": {
   "display_name": "Python 3 (ipykernel)",
   "language": "python",
   "name": "python3"
  },
  "language_info": {
   "codemirror_mode": {
    "name": "ipython",
    "version": 3
   },
   "file_extension": ".py",
   "mimetype": "text/x-python",
   "name": "python",
   "nbconvert_exporter": "python",
   "pygments_lexer": "ipython3",
   "version": "3.9.7"
  }
 },
 "nbformat": 4,
 "nbformat_minor": 4
}
